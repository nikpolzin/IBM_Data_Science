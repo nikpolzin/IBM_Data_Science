{
 "cells": [
  {
   "cell_type": "markdown",
   "id": "1d62fa23-f5f5-4ea1-ab79-1c65f45bbdab",
   "metadata": {},
   "source": [
    "# Data Science Tools and Ecosystems"
   ]
  },
  {
   "cell_type": "markdown",
   "id": "156dd76a-ba78-425b-af89-c7bfde5aa0ec",
   "metadata": {},
   "source": [
    "In this notebook, Data Science Tools and Ecosystem are summarized."
   ]
  },
  {
   "cell_type": "markdown",
   "id": "a7fd50f3-708f-4395-9f92-5302414a994d",
   "metadata": {},
   "source": [
    "Some of the popular languages that Data Scientists use are:\n",
    "1. Python\n",
    "2. R\n",
    "3. Java\n",
    "4. SQL"
   ]
  },
  {
   "cell_type": "markdown",
   "id": "19ad1db4-3585-446a-a688-bc7352c2f0cd",
   "metadata": {},
   "source": [
    "Some of the commonly used libraries used by Data Scientists include:\n",
    "\n",
    "1. pandas\n",
    "2. matplotlib\n",
    "3. scikit-learn\n",
    "4. numpy\n",
    "5. seaborn\n",
    "6. Apache Spark"
   ]
  },
  {
   "cell_type": "markdown",
   "id": "6fc139ec-34dc-42c2-8b51-742f02bb4922",
   "metadata": {},
   "source": [
    "|Data Science Tools|\n",
    "|----|\n",
    "|Jupyter Lab|\n",
    "|Spyder|\n",
    "|R Studio|\n",
    "\n",
    "\n"
   ]
  },
  {
   "cell_type": "markdown",
   "id": "2f0ce5b6-f2ec-4a5c-83fe-b167143df1ed",
   "metadata": {},
   "source": [
    "### Below are a few examples of evaluating arithmetic expressions in Python"
   ]
  },
  {
   "cell_type": "code",
   "execution_count": 2,
   "id": "aafddf8c-ed15-45ff-b3a0-bfd06801b779",
   "metadata": {
    "tags": []
   },
   "outputs": [
    {
     "data": {
      "text/plain": [
       "17"
      ]
     },
     "execution_count": 2,
     "metadata": {},
     "output_type": "execute_result"
    }
   ],
   "source": [
    "# This a simple arithmetic expression to mutiply then add integers\n",
    "(3*4)+5"
   ]
  },
  {
   "cell_type": "code",
   "execution_count": 3,
   "id": "3daa2750-6999-46e3-8bad-5abac946b744",
   "metadata": {
    "tags": []
   },
   "outputs": [
    {
     "data": {
      "text/plain": [
       "3.3333333333333335"
      ]
     },
     "execution_count": 3,
     "metadata": {},
     "output_type": "execute_result"
    }
   ],
   "source": [
    "#  This will convert 200 minutes to hours by diving by 60\n",
    "minutes = 200\n",
    "hours = minutes /60\n",
    "hours"
   ]
  },
  {
   "cell_type": "markdown",
   "id": "74161426-9580-4fd9-b0c6-1fa4f3a53950",
   "metadata": {},
   "source": [
    "**Objectives:**\n",
    "+ List popular languages for Data Science\n",
    "+ List Some data science tools\n",
    "+ List some data science libraries\n",
    "+ Perform basic arithmetic with python\n",
    "+ Use python variables to perform arithmetic\n",
    "+ Use markdown to format explanatory text in the notebook\n"
   ]
  },
  {
   "cell_type": "markdown",
   "id": "336cf922-a4bd-44ac-9f7c-85b5d38059a8",
   "metadata": {},
   "source": [
    "## Author\n",
    "Nikolas Polzin\n"
   ]
  },
  {
   "cell_type": "code",
   "execution_count": null,
   "id": "e142a03b-57cf-4965-91e0-1ea4d0b8a953",
   "metadata": {},
   "outputs": [],
   "source": []
  }
 ],
 "metadata": {
  "kernelspec": {
   "display_name": "Python",
   "language": "python",
   "name": "conda-env-python-py"
  },
  "language_info": {
   "codemirror_mode": {
    "name": "ipython",
    "version": 3
   },
   "file_extension": ".py",
   "mimetype": "text/x-python",
   "name": "python",
   "nbconvert_exporter": "python",
   "pygments_lexer": "ipython3",
   "version": "3.7.12"
  }
 },
 "nbformat": 4,
 "nbformat_minor": 5
}
